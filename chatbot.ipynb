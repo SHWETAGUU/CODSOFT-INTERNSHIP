{
 "cells": [
  {
   "cell_type": "code",
   "execution_count": null,
   "id": "06f31470",
   "metadata": {},
   "outputs": [
    {
     "name": "stdout",
     "output_type": "stream",
     "text": [
      "enter your name: shweta\n",
      "hello shweta\n",
      "ask some questions:what is your name\n",
      "MY NAME IS CHATBOT\n",
      "ask some questions:who made yous\n",
      "SHWETA MADE ME ...\n",
      "ask some questions:how are you\n",
      "AM NOT ABLE TO UNDERSTAND WHAT YOU ARE SAYING\n",
      "ask some questions:how are you \n",
      "AM FINE , HOW ARE YOU?\n",
      "ask some questions:what are you interested in \n",
      "AM NOT ABLE TO UNDERSTAND WHAT YOU ARE SAYING\n",
      "ask some questions:what are you interested in\n",
      "AM NOT ABLE TO UNDERSTAND WHAT YOU ARE SAYING\n"
     ]
    }
   ],
   "source": [
    "name = input(\"enter your name: \")\n",
    "print (\"hello\",name)\n",
    "\n",
    "for i in range(1000):\n",
    "    chat = str(input(\"ask some questions:\"))     #THE USER ASKS QUESTION TO BOT\n",
    "    if (chat == (\"what is your name\")):\n",
    "        print(\"MY NAME IS CHATBOT\")\n",
    "    elif (chat == (\"who made yous\")):\n",
    "        print(\"SHWETA MADE ME ...\")\n",
    "    elif (chat == (\"what are you interested in\")):\n",
    "        print(\"I AM INTERESTED IN DATA SCIENCE\")\n",
    "    elif (chat == (\"how are you\")):\n",
    "        print(\"AM FINE , HOW ARE YOU?\")\n",
    "    else:\n",
    "        print(\"AM NOT ABLE TO UNDERSTAND WHAT YOU ARE SAYING\")\n"
   ]
  },
  {
   "cell_type": "code",
   "execution_count": null,
   "id": "9945e2ec",
   "metadata": {},
   "outputs": [],
   "source": []
  }
 ],
 "metadata": {
  "kernelspec": {
   "display_name": "Python 3 (ipykernel)",
   "language": "python",
   "name": "python3"
  },
  "language_info": {
   "codemirror_mode": {
    "name": "ipython",
    "version": 3
   },
   "file_extension": ".py",
   "mimetype": "text/x-python",
   "name": "python",
   "nbconvert_exporter": "python",
   "pygments_lexer": "ipython3",
   "version": "3.11.4"
  }
 },
 "nbformat": 4,
 "nbformat_minor": 5
}
